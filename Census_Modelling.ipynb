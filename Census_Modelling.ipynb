{
  "nbformat": 4,
  "nbformat_minor": 0,
  "metadata": {
    "colab": {
      "provenance": []
    },
    "kernelspec": {
      "name": "python3",
      "display_name": "Python 3"
    },
    "language_info": {
      "name": "python"
    }
  },
  "cells": [
    {
      "cell_type": "code",
      "execution_count": 4,
      "metadata": {
        "id": "OUY6m1nvslX_"
      },
      "outputs": [],
      "source": [
        "import numpy as np\n",
        "import pandas as pd\n",
        "import matplotlib.pyplot as plt\n",
        "import seaborn as sns\n",
        "\n",
        "from sklearn import preprocessing # https://scikit-learn.org/stable/modules/preprocessing.html\n",
        "from sklearn.metrics import accuracy_score, precision_score, recall_score, roc_auc_score # https://scikit-learn.org/stable/modules/model_evaluation.html\n",
        "\n",
        "from sklearn.linear_model import LogisticRegression # https://scikit-learn.org/stable/modules/linear_model.html"
      ]
    },
    {
      "cell_type": "code",
      "source": [
        "train_url = 'https://archive.ics.uci.edu/ml/machine-learning-databases/adult/adult.data'\n",
        "test_url = 'https://archive.ics.uci.edu/ml/machine-learning-databases/adult/adult.test'\n",
        "\n",
        "features = [\"age\", \"workclass\", \"fnlwgt\", \"edu\", \"edu_num\", \"ms\",\n",
        "            \"occup\", \"relation\", \"race\", \"sex\", \"cap_gain\", \"cap_loss\",\n",
        "            \"hpw\", \"country\", \"target\"]"
      ],
      "metadata": {
        "id": "jxORcB6Ss5AV"
      },
      "execution_count": 5,
      "outputs": []
    },
    {
      "cell_type": "code",
      "source": [
        "train_data = pd.read_csv(train_url, names=features, sep=r'\\s*,\\s*', engine='python', na_values=\"?\")\n",
        "test_data = pd.read_csv(test_url, names=features, sep=r'\\s*,\\s*', engine='python', na_values=\"?\", skiprows=1)"
      ],
      "metadata": {
        "id": "e4y24i4Os9op"
      },
      "execution_count": 6,
      "outputs": []
    },
    {
      "cell_type": "markdown",
      "source": [
        "*Data Cleaning*\n",
        "\n",
        "**Training Set**"
      ],
      "metadata": {
        "id": "uKtlZr8atA0q"
      }
    },
    {
      "cell_type": "code",
      "source": [
        "# (a) Fill 'workclass' missing values\n",
        "workclass_train = train_data['workclass'].mode()[0]\n",
        "train_data['workclass'].fillna(workclass_train, inplace = True)\n",
        "\n",
        "# (b) Fill 'occup' missing values\n",
        "occup_train = train_data['occup'].dropna().value_counts(normalize=True)\n",
        "np.random.seed(21)\n",
        "\n",
        "train_data.loc[train_data['occup'].isnull(), 'occup'] = np.random.choice(\n",
        "    occup_train.index,\n",
        "    size=train_data['occup'].isnull().sum(),\n",
        "    p=occup_train.values\n",
        ")\n",
        "\n",
        "# (c) Fill 'country' missing values\n",
        "country_race_train = train_data.groupby('race')['country'].agg(lambda x: pd.Series.mode(x)[0])\n",
        "train_data['country'] = train_data.apply(\n",
        "    lambda r: country_race_train[r['race']] if pd.isnull(r['country']) else r['country'],\n",
        "    axis = 1\n",
        ")\n",
        "\n",
        "# (d) Getting rid of redundant variables\n",
        "train_data.drop('edu_num', axis = 1, inplace = True)\n",
        "train_data['edu'].replace(['Preschool', '1st-4th', '5th-6th', '7th-8th',\n",
        "                                 '9th', '10th', '11th', '12th'], 'School', inplace = True)\n",
        "train_data['race'].replace(['Black', 'Asian-Pac-Islander', 'Amer-Indian-Eskimo', 'Other'],\n",
        "                   'Other', inplace = True)\n",
        "\n",
        "# (e) Data Encoding\n",
        "train_data['target'] = train_data['target'].map({'<=50K': 0, '>50K': 1})"
      ],
      "metadata": {
        "id": "vnem_ItftACQ"
      },
      "execution_count": 7,
      "outputs": []
    },
    {
      "cell_type": "markdown",
      "source": [
        "**Testing Set**"
      ],
      "metadata": {
        "id": "i7HJAUB_tUY5"
      }
    },
    {
      "cell_type": "code",
      "source": [
        "# (a) Fill 'workclass' missing values\n",
        "workclass_test = test_data['workclass'].mode()[0]\n",
        "test_data['workclass'].fillna(workclass_test, inplace = True)\n",
        "\n",
        "# (b) Fill 'occup' missing values\n",
        "occup_test = test_data['occup'].dropna().value_counts(normalize=True)\n",
        "np.random.seed(21)\n",
        "\n",
        "test_data.loc[test_data['occup'].isnull(), 'occup'] = np.random.choice(\n",
        "    occup_test.index,\n",
        "    size=test_data['occup'].isnull().sum(),\n",
        "    p=occup_test.values\n",
        ")\n",
        "\n",
        "# (c) Fill 'country' missing values\n",
        "country_race_test = test_data.groupby('race')['country'].agg(lambda x: pd.Series.mode(x)[0])\n",
        "test_data['country'] = test_data.apply(\n",
        "    lambda r: country_race_test[r['race']] if pd.isnull(r['country']) else r['country'],\n",
        "    axis = 1\n",
        ")\n",
        "\n",
        "# (d) Getting rid of redundant variables\n",
        "test_data.drop('edu_num', axis = 1, inplace = True)\n",
        "test_data['edu'].replace(['Preschool', '1st-4th', '5th-6th', '7th-8th',\n",
        "                                 '9th', '10th', '11th', '12th'], 'School', inplace = True)\n",
        "test_data['race'].replace(['Black', 'Asian-Pac-Islander', 'Amer-Indian-Eskimo', 'Other'],\n",
        "                   'Other', inplace = True)\n",
        "\n",
        "# (e) Data Encoding\n",
        "test_data['target'] = test_data['target'].map({'<=50K.': 0, '>50K.': 1})"
      ],
      "metadata": {
        "id": "SQLYpWJStNI7"
      },
      "execution_count": 8,
      "outputs": []
    },
    {
      "cell_type": "markdown",
      "source": [
        "**Categorical Label Encoding**"
      ],
      "metadata": {
        "id": "OnA821bCuwJn"
      }
    },
    {
      "cell_type": "code",
      "source": [
        "# label encoding all categorical columns\n",
        "from sklearn.preprocessing import LabelEncoder\n",
        "categorical = ['workclass','edu', 'ms', 'occup', 'relation', 'race', 'sex','country']\n",
        "label_encoder = LabelEncoder()\n",
        "for col in categorical:\n",
        "    label_encoder.fit(train_data[col])\n",
        "    train_data[col] = label_encoder.transform(train_data[col])\n",
        "    label_encoder.fit(test_data[col])\n",
        "    test_data[col] = label_encoder.transform(test_data[col])"
      ],
      "metadata": {
        "id": "MDkJ_xvyuvhK"
      },
      "execution_count": 9,
      "outputs": []
    },
    {
      "cell_type": "markdown",
      "source": [],
      "metadata": {
        "id": "qJcoLt88u3Uu"
      }
    },
    {
      "cell_type": "code",
      "source": [
        "# training data\n",
        "X_train = train_data.drop('target', axis = 1)\n",
        "y_train = train_data['target']\n",
        "\n",
        "# test data\n",
        "X_test = test_data.drop('target', axis = 1)\n",
        "y_test = test_data['target']"
      ],
      "metadata": {
        "id": "nKntcv3Hu4fR"
      },
      "execution_count": 10,
      "outputs": []
    },
    {
      "cell_type": "code",
      "source": [
        "from sklearn.preprocessing import StandardScaler\n",
        "\n",
        "scaler = StandardScaler()\n",
        "\n",
        "X_train = pd.DataFrame(scaler.fit_transform(X_train), columns = X_train.columns)\n",
        "X_test = pd.DataFrame(scaler.transform(X_test), columns = X_test.columns)"
      ],
      "metadata": {
        "id": "XjXxoHkBu4_M"
      },
      "execution_count": 11,
      "outputs": []
    },
    {
      "cell_type": "markdown",
      "source": [
        "***Model using Logistic Regresison***"
      ],
      "metadata": {
        "id": "PHAOlNkAC6g4"
      }
    },
    {
      "cell_type": "code",
      "source": [
        "from sklearn.metrics import accuracy_score\n",
        "\n",
        "logistic = LogisticRegression()\n",
        "logistic.fit(X_train, y_train)\n",
        "\n",
        "y_pred = logistic.predict(X_test)\n",
        "\n",
        "acc = accuracy_score(y_test, y_pred)\n",
        "print(acc)"
      ],
      "metadata": {
        "colab": {
          "base_uri": "https://localhost:8080/"
        },
        "id": "z_s9TTQHy9z2",
        "outputId": "22a6d84e-4ccc-497b-9a20-93e9dd21a86f"
      },
      "execution_count": null,
      "outputs": [
        {
          "output_type": "stream",
          "name": "stdout",
          "text": [
            "0.8048031447699773\n"
          ]
        }
      ]
    },
    {
      "cell_type": "markdown",
      "source": [
        "***Using GridSeachCV for Hyperparameter Tuning and Cross Validation to find the Hyper-Parameter:***"
      ],
      "metadata": {
        "id": "U6x28keSSg0q"
      }
    },
    {
      "cell_type": "code",
      "source": [
        "from sklearn.model_selection import GridSearchCV\n",
        "\n",
        "lambda_vals = [0.01, 0.1, 1, 10, 100]\n",
        "grid = {\n",
        "    'C': lambda_vals,\n",
        "    'penalty': ['l2']\n",
        "}\n",
        "\n",
        "grid_search = GridSearchCV(estimator = logistic, param_grid = grid, cv = 5, scoring = 'accuracy')\n",
        "best_model = grid_search.fit(X_train, y_train)\n",
        "\n",
        "print(best_model.best_params_)\n",
        "print(best_model.best_score_)\n",
        "print(accuracy_score(y_test, best_model.predict(X_test)))"
      ],
      "metadata": {
        "colab": {
          "base_uri": "https://localhost:8080/"
        },
        "id": "4UKu2mV_RAKH",
        "outputId": "02b1c77d-9ecd-4f3c-ae30-ad0a13fd882b"
      },
      "execution_count": null,
      "outputs": [
        {
          "output_type": "stream",
          "name": "stdout",
          "text": [
            "{'C': 0.1, 'penalty': 'l2'}\n",
            "0.8042136102016342\n",
            "0.8043117744610282\n"
          ]
        }
      ]
    },
    {
      "cell_type": "code",
      "source": [
        "#we can also do the same by using cross_val_score\n",
        "from sklearn.model_selection import cross_val_score\n",
        "\n",
        "scores = cross_val_score(logistic, X_train, y_train, cv=5)\n",
        "print(\"Cross-validation scores:\", scores)\n",
        "print(\"Average cross-validation score:\", scores.mean())\n",
        "\n",
        "scores_dict = {}\n",
        "for l in lambda_vals:\n",
        "  logistic = LogisticRegression(C=l, penalty = 'l2', max_iter=10000)\n",
        "  scores = cross_val_score(logistic, X_train, y_train, cv = 5, scoring = 'accuracy')\n",
        "  scores_dict[l] = scores.mean()\n",
        "best_c = max(scores_dict, key = scores_dict.get)\n",
        "print(best_c)\n",
        "print(scores_dict[best_c])"
      ],
      "metadata": {
        "colab": {
          "base_uri": "https://localhost:8080/"
        },
        "id": "fi-My52mXIwj",
        "outputId": "0b191d07-3783-42ad-e6e0-6e1238106c80"
      },
      "execution_count": null,
      "outputs": [
        {
          "output_type": "stream",
          "name": "stdout",
          "text": [
            "Cross-validation scores: [0.80485183 0.79929361 0.80804668 0.80128993 0.80681818]\n",
            "Average cross-validation score: 0.8040600475480714\n",
            "0.1\n",
            "0.8042136102016342\n"
          ]
        }
      ]
    },
    {
      "cell_type": "code",
      "source": [
        "# access the performance of each model\n",
        "from sklearn.metrics import accuracy_score, precision_score, recall_score, f1_score, roc_curve, auc\n",
        "\n",
        "predictions = best_model.predict(X_test)\n",
        "accuracy = accuracy_score(y_test, predictions)\n",
        "precision = precision_score(y_test, predictions)\n",
        "recall = recall_score(y_test, predictions)\n",
        "f1 = f1_score(y_test, predictions)\n",
        "\n",
        "print(f\"Accuracy: {accuracy}, Precision: {precision}, Recall: {recall}, F1 Score: {f1}\")"
      ],
      "metadata": {
        "colab": {
          "base_uri": "https://localhost:8080/"
        },
        "id": "jgnaeRxudeYw",
        "outputId": "98cfa932-423d-4194-f1ee-80741c55bc81"
      },
      "execution_count": null,
      "outputs": [
        {
          "output_type": "stream",
          "name": "stdout",
          "text": [
            "Accuracy: 0.8043117744610282, Precision: 0.6801310043668122, Recall: 0.32397295891835676, F1 Score: 0.4388869320183163\n"
          ]
        }
      ]
    },
    {
      "cell_type": "code",
      "source": [
        "accuracies = []\n",
        "precisions = []\n",
        "recalls = []\n",
        "f1_scores = []\n",
        "\n",
        "# Repeat the experiment 3 times\n",
        "for i in range(3):\n",
        "    model = LogisticRegression(penalty='l2')\n",
        "    model.fit(X_train, y_train)\n",
        "    preds = model.predict(X_test)\n",
        "    accuracies.append(accuracy_score(y_test, preds))\n",
        "    precisions.append(precision_score(y_test, preds))\n",
        "    recalls.append(recall_score(y_test, preds))\n",
        "    f1_scores.append(f1_score(y_test, preds))\n",
        "\n",
        "print(f\"Average Accuracy: {np.mean(accuracies)}, Std: {np.std(accuracies)}\")\n",
        "print(f\"Average Precision: {np.mean(precisions)}, Std: {np.std(precisions)}\")\n",
        "print(f\"Average Recall: {np.mean(recalls)}, Std: {np.std(recalls)}\")\n",
        "print(f\"Average F1 Score: {np.mean(f1_scores)}, Std: {np.std(f1_scores)}\")"
      ],
      "metadata": {
        "colab": {
          "base_uri": "https://localhost:8080/"
        },
        "id": "p_1mgxEWjLKE",
        "outputId": "47049048-80e3-4b67-ebb4-06c7dadfdd57"
      },
      "execution_count": null,
      "outputs": [
        {
          "output_type": "stream",
          "name": "stdout",
          "text": [
            "Average Accuracy: 0.8048031447699774, Std: 1.1102230246251565e-16\n",
            "Average Precision: 0.6817192600652883, Std: 1.1102230246251565e-16\n",
            "Average Recall: 0.32579303172126883, Std: 0.0\n",
            "Average F1 Score: 0.44088669950738907, Std: 0.0\n"
          ]
        }
      ]
    },
    {
      "cell_type": "code",
      "source": [
        "# ROC Curve and AUC\n",
        "fpr, tpr, _ = roc_curve(y_test, best_model.predict_proba(X_test)[:, 1])\n",
        "roc_auc = auc(fpr, tpr)\n",
        "\n",
        "plt.figure()\n",
        "plt.plot(fpr, tpr, color='darkorange', lw=2, label='ROC curve (area = %0.2f)' % roc_auc)\n",
        "plt.plot([0, 1], [0, 1], color='navy', lw=2, linestyle='--')\n",
        "plt.xlim([0.0, 1.0])\n",
        "plt.ylim([0.0, 1.05])\n",
        "plt.xlabel('False Positive Rate')\n",
        "plt.ylabel('True Positive Rate')\n",
        "plt.title('Receiver Operating Characteristic')\n",
        "plt.legend(loc=\"lower right\")\n",
        "plt.show()"
      ],
      "metadata": {
        "colab": {
          "base_uri": "https://localhost:8080/",
          "height": 472
        },
        "id": "zdnxf-slfSJF",
        "outputId": "055c7921-ab3d-47d2-971e-541f0ed3a6f2"
      },
      "execution_count": null,
      "outputs": [
        {
          "output_type": "display_data",
          "data": {
            "text/plain": [
              "<Figure size 640x480 with 1 Axes>"
            ],
            "image/png": "[encoded data removed]"
          },
          "metadata": {}
        }
      ]
    },
    {
      "cell_type": "markdown",
      "source": [
        "***Takeaways:***\n",
        "\n",
        "\n",
        "*   The standard deviation values indicates that the model performance is stable across multiple different runs of the experiment (good sign)\n",
        "*   Precision, Recall Values and the F1 Score averages suggest that the model is decent at predicting the majoarity class, yet it struggles with correctly identifying the positive class, which is a common challege in imbalanced datasets or when model's decision boundaries are not well aligned with the class separation\n",
        "*   the ROC curve and AUC are suggests that the model is doing a good job at classification tasks, but the final decision on its usability should also consider the context and cost/benefit analysis of the problem at hand\n",
        "\n"
      ],
      "metadata": {
        "id": "TPOnCk1tEHc6"
      }
    },
    {
      "cell_type": "code",
      "source": [
        "from sklearn.naive_bayes import GaussianNB\n",
        "from sklearn.metrics import classification_report, roc_auc_score\n",
        "\n",
        "# Initialize the Naive Bayes classifier\n",
        "nb_classifier = GaussianNB()\n",
        "\n",
        "# Fit the classifier to the training data\n",
        "nb_classifier.fit(X_train, y_train)\n",
        "\n",
        "# Predict on the test data\n",
        "nb_predictions = nb_classifier.predict(X_test)\n",
        "\n",
        "# Evaluate the classifier\n",
        "nb_accuracy = accuracy_score(y_test, nb_predictions)\n",
        "nb_precision = precision_score(y_test, nb_predictions)\n",
        "nb_recall = recall_score(y_test, nb_predictions)\n",
        "nb_f1 = f1_score(y_test, nb_predictions)\n",
        "nb_auc = roc_auc_score(y_test, nb_classifier.predict_proba(X_test)[:, 1])\n",
        "\n",
        "print(f\"Naive Bayes - Accuracy: {nb_accuracy}, Precision: {nb_precision}, Recall: {nb_recall}, F1 Score: {nb_f1}, AUC: {nb_auc}\")\n"
      ],
      "metadata": {
        "colab": {
          "base_uri": "https://localhost:8080/"
        },
        "id": "nrDPbaJBurIO",
        "outputId": "a70d3b1c-d315-4956-e872-4ec664872414"
      },
      "execution_count": null,
      "outputs": [
        {
          "output_type": "stream",
          "name": "stdout",
          "text": [
            "Naive Bayes - Accuracy: 0.7992752287943001, Precision: 0.6625421822272216, Recall: 0.30629225169006763, F1 Score: 0.41891891891891897, AUC: 0.8349378390093384\n"
          ]
        }
      ]
    },
    {
      "cell_type": "markdown",
      "source": [
        "It gives a similar result as the the logistic regression. It seems like there could potentially be a problem that occurred in the data cleaning steps:\n",
        "\n",
        "Things to re-consider:\n",
        "*   Reconsider Dropping `edu_num`\n",
        "*   Handle missing values more strategically\n",
        "*   Combine categories thoughtfully in categorical variables\n",
        "*   Feature"
      ],
      "metadata": {
        "id": "Wm5oj9Q0uxKP"
      }
    },
    {
      "cell_type": "code",
      "source": [
        "from sklearn.neighbors import KNeighborsClassifier\n",
        "\n",
        "# Initialize the k-NN classifier\n",
        "# Start with k=5 which is a common default choice\n",
        "knn_classifier = KNeighborsClassifier(n_neighbors=5)\n",
        "\n",
        "# Fit the classifier to the training data\n",
        "knn_classifier.fit(X_train, y_train)\n",
        "\n",
        "# Predict on the test data\n",
        "knn_predictions = knn_classifier.predict(X_test)\n",
        "\n",
        "# Evaluate the classifier\n",
        "knn_accuracy = accuracy_score(y_test, knn_predictions)\n",
        "print(f\"k-NN - Accuracy: {knn_accuracy}\")"
      ],
      "metadata": {
        "id": "LDIvH1rJ1HQp",
        "colab": {
          "base_uri": "https://localhost:8080/"
        },
        "outputId": "02a25690-abd1-453d-a514-203e8039a103"
      },
      "execution_count": 13,
      "outputs": [
        {
          "output_type": "stream",
          "name": "stdout",
          "text": [
            "k-NN - Accuracy: 0.8218168417173393\n"
          ]
        }
      ]
    },
    {
      "cell_type": "code",
      "source": [
        "from sklearn.model_selection import GridSearchCV\n",
        "# Define the parameter grid for hyperparameter tuning\n",
        "param_grid_knn = {\n",
        "    'n_neighbors': [3, 5, 7, 10],  # The number of neighbors to consider\n",
        "    'weights': ['uniform', 'distance'],  # Weighting function for prediction\n",
        "    'metric': ['minkowski'],  # The distance metric to use for the tree\n",
        "}\n",
        "\n",
        "grid_search_knn = GridSearchCV(KNeighborsClassifier(), param_grid_knn, cv=5, scoring='accuracy')\n",
        "grid_search_knn.fit(X_train, y_train)\n",
        "\n",
        "# Best parameters and best score\n",
        "print(\"Best parameters for k-NN:\", grid_search_knn.best_params_)\n",
        "print(\"Best cross-validation accuracy for k-NN:\", grid_search_knn.best_score_)\n",
        "\n",
        "# Evaluate on test data using the best parameters\n",
        "best_knn = grid_search_knn.best_estimator_\n",
        "best_knn_predictions = best_knn.predict(X_test)\n",
        "best_knn_accuracy = accuracy_score(y_test, best_knn_predictions)\n",
        "print(f\"Test accuracy with best k-NN: {best_knn_accuracy}\")\n"
      ],
      "metadata": {
        "colab": {
          "base_uri": "https://localhost:8080/"
        },
        "id": "kTmfrE2V1W8P",
        "outputId": "eec1c0d9-a8be-49c4-bdb4-583bb31c1bec"
      },
      "execution_count": 15,
      "outputs": [
        {
          "output_type": "stream",
          "name": "stdout",
          "text": [
            "Best parameters for k-NN: {'metric': 'minkowski', 'n_neighbors': 10, 'weights': 'distance'}\n",
            "Best cross-validation accuracy for k-NN: 0.8268175329552575\n",
            "Test accuracy with best k-NN: 0.8267919660954487\n"
          ]
        }
      ]
    },
    {
      "cell_type": "markdown",
      "source": [
        "After trying the kNN model, we can tell this model fits better than the other two - Naive Bayes and Logistic Regression."
      ],
      "metadata": {
        "id": "y9mzQRssAo8q"
      }
    }
  ]
}